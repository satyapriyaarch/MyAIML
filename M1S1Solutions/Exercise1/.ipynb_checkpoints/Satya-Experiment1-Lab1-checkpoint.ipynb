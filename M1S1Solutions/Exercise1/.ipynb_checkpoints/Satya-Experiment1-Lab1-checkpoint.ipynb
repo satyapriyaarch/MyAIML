{
 "cells": [
  {
   "cell_type": "markdown",
   "metadata": {},
   "source": [
    "# Session 1\n",
    "## Experiment 1\n",
    "### Lab"
   ]
  },
  {
   "cell_type": "markdown",
   "metadata": {},
   "source": [
    "**After finishing this Experiment, please go over to the LMS, and answer the Check For Understanding Questions under Experiment 1.**"
   ]
  },
  {
   "cell_type": "markdown",
   "metadata": {},
   "source": [
    "In this experiment, we will use the data set on fruits which we explored earlier and learn how a simple K nearest neighbour classification works. "
   ]
  },
  {
   "cell_type": "markdown",
   "metadata": {},
   "source": [
    "Let us consider a simple situation. Given some data about a fruit, we want to label it automatically.\n",
    "\n",
    "Fruits are characterized by \n",
    " * weight in grams as a float\n",
    " * colour as an integer\n",
    "     - 1 $\\rightarrow$ red\n",
    "     - 2 $\\rightarrow$ orange\n",
    "     - 3 $\\rightarrow$ yellow\n",
    "     - 4 $\\rightarrow$ green\n",
    "     - 5 $\\rightarrow$ blue\n",
    "     - 6 $\\rightarrow$ purple\n",
    " * label as a string\n",
    "     - \"A\" $\\rightarrow$ Apple\n",
    "     - \"B\" $\\rightarrow$ Banana\n",
    "     \n",
    "We are given some sample data such as (303, 3, \"A\") meaning the fruit with 303 gram weight, and yellow colour is an apple. A set of such *training examples* is given in “01-train.csv”. This has a small set of 17 **labeled** examples. \n",
    "\n",
    "We are given a set of **test** data where only weight and colour are given,  eg. (373,1). We should design a simple Nearest Neighbour classifier that will find the fruit label. i.e., \"A\" or \"B\", meaning Apple or Banana. \n",
    "\n",
    "We have 102 such testcases. We are also given additional files which have the correct labels for all the 102 test cases. If your predicted label is correct, you have done well!\n",
    "\n",
    "Here are the details of all the files:\n",
    "  * 01-train.csv $\\Rightarrow$ The original input data. \n",
    "    - 18 lines\n",
    "    - the first line is a header\n",
    "    - each of the remaining 17 lines has three pieces of data:\n",
    "       * weight in grams :: float\n",
    "       * colour code :: 1, 2, 3, 4, 5 \n",
    "       * label :: \"A\", \"B\"\n",
    "  * 01-test1.csv $\\Rightarrow$ The first test data set.\n",
    "    - 31 lines\n",
    "    - the first line is a header\n",
    "    - each of the remaining 30 lines has two pieces of data\n",
    "       * weight in grams :: float\n",
    "       * colour code :: 1, 2, 3, 4, 5\n",
    "  * 01-test1-labels.csv $\\Rightarrow$ The labels for test data set above. That is, each line has just the correct label.\n",
    "  * 01-test1-labelled.csv $\\Rightarrow$ The above two files combined. \n",
    "  * 01-test2.csv $\\Rightarrow$ The second test data set. Similar to the first data set, except that it has 73 lines.\n",
    "  * 01-test2-labels.csv $\\Rightarrow$ The labels for test data set above. That is, each line has just the correct label.\n",
    "  * 01-test2-labelled.csv $\\Rightarrow$ The above two files combined. "
   ]
  },
  {
   "cell_type": "code",
   "execution_count": 1,
   "metadata": {},
   "outputs": [
    {
     "data": {
      "text/html": [
       "<div>\n",
       "<style scoped>\n",
       "    .dataframe tbody tr th:only-of-type {\n",
       "        vertical-align: middle;\n",
       "    }\n",
       "\n",
       "    .dataframe tbody tr th {\n",
       "        vertical-align: top;\n",
       "    }\n",
       "\n",
       "    .dataframe thead th {\n",
       "        text-align: right;\n",
       "    }\n",
       "</style>\n",
       "<table border=\"1\" class=\"dataframe\">\n",
       "  <thead>\n",
       "    <tr style=\"text-align: right;\">\n",
       "      <th></th>\n",
       "      <th>Weight</th>\n",
       "      <th>Colour</th>\n",
       "      <th>Label</th>\n",
       "    </tr>\n",
       "  </thead>\n",
       "  <tbody>\n",
       "    <tr>\n",
       "      <th>0</th>\n",
       "      <td>303</td>\n",
       "      <td>3</td>\n",
       "      <td>B</td>\n",
       "    </tr>\n",
       "    <tr>\n",
       "      <th>1</th>\n",
       "      <td>370</td>\n",
       "      <td>1</td>\n",
       "      <td>A</td>\n",
       "    </tr>\n",
       "    <tr>\n",
       "      <th>2</th>\n",
       "      <td>298</td>\n",
       "      <td>3</td>\n",
       "      <td>B</td>\n",
       "    </tr>\n",
       "    <tr>\n",
       "      <th>3</th>\n",
       "      <td>277</td>\n",
       "      <td>3</td>\n",
       "      <td>B</td>\n",
       "    </tr>\n",
       "    <tr>\n",
       "      <th>4</th>\n",
       "      <td>377</td>\n",
       "      <td>4</td>\n",
       "      <td>A</td>\n",
       "    </tr>\n",
       "    <tr>\n",
       "      <th>5</th>\n",
       "      <td>299</td>\n",
       "      <td>3</td>\n",
       "      <td>B</td>\n",
       "    </tr>\n",
       "    <tr>\n",
       "      <th>6</th>\n",
       "      <td>382</td>\n",
       "      <td>1</td>\n",
       "      <td>A</td>\n",
       "    </tr>\n",
       "    <tr>\n",
       "      <th>7</th>\n",
       "      <td>374</td>\n",
       "      <td>4</td>\n",
       "      <td>A</td>\n",
       "    </tr>\n",
       "    <tr>\n",
       "      <th>8</th>\n",
       "      <td>303</td>\n",
       "      <td>4</td>\n",
       "      <td>B</td>\n",
       "    </tr>\n",
       "    <tr>\n",
       "      <th>9</th>\n",
       "      <td>309</td>\n",
       "      <td>3</td>\n",
       "      <td>B</td>\n",
       "    </tr>\n",
       "    <tr>\n",
       "      <th>10</th>\n",
       "      <td>359</td>\n",
       "      <td>1</td>\n",
       "      <td>A</td>\n",
       "    </tr>\n",
       "    <tr>\n",
       "      <th>11</th>\n",
       "      <td>366</td>\n",
       "      <td>1</td>\n",
       "      <td>A</td>\n",
       "    </tr>\n",
       "    <tr>\n",
       "      <th>12</th>\n",
       "      <td>311</td>\n",
       "      <td>3</td>\n",
       "      <td>B</td>\n",
       "    </tr>\n",
       "    <tr>\n",
       "      <th>13</th>\n",
       "      <td>302</td>\n",
       "      <td>3</td>\n",
       "      <td>B</td>\n",
       "    </tr>\n",
       "    <tr>\n",
       "      <th>14</th>\n",
       "      <td>373</td>\n",
       "      <td>4</td>\n",
       "      <td>A</td>\n",
       "    </tr>\n",
       "    <tr>\n",
       "      <th>15</th>\n",
       "      <td>305</td>\n",
       "      <td>3</td>\n",
       "      <td>B</td>\n",
       "    </tr>\n",
       "    <tr>\n",
       "      <th>16</th>\n",
       "      <td>371</td>\n",
       "      <td>3</td>\n",
       "      <td>A</td>\n",
       "    </tr>\n",
       "  </tbody>\n",
       "</table>\n",
       "</div>"
      ],
      "text/plain": [
       "    Weight  Colour Label\n",
       "0      303       3     B\n",
       "1      370       1     A\n",
       "2      298       3     B\n",
       "3      277       3     B\n",
       "4      377       4     A\n",
       "5      299       3     B\n",
       "6      382       1     A\n",
       "7      374       4     A\n",
       "8      303       4     B\n",
       "9      309       3     B\n",
       "10     359       1     A\n",
       "11     366       1     A\n",
       "12     311       3     B\n",
       "13     302       3     B\n",
       "14     373       4     A\n",
       "15     305       3     B\n",
       "16     371       3     A"
      ]
     },
     "execution_count": 1,
     "metadata": {},
     "output_type": "execute_result"
    }
   ],
   "source": [
    "# Let us first read the data from the file and do a quick visualization\n",
    "import pandas as pd\n",
    "train = pd.read_csv(\"01-train.csv\")\n",
    "train"
   ]
  },
  {
   "cell_type": "code",
   "execution_count": 2,
   "metadata": {},
   "outputs": [
    {
     "data": {
      "text/plain": [
       "<matplotlib.figure.Figure at 0x10d8e7ba8>"
      ]
     },
     "metadata": {},
     "output_type": "display_data"
    }
   ],
   "source": [
    "apples = train[train.Label == \"A\"]\n",
    "bananas = train[train.Label == \"B\"]\n",
    "import matplotlib.pyplot as plt\n",
    "plt.plot(apples.Weight, apples.Colour, \"ro\")\n",
    "plt.plot(bananas.Weight, bananas.Colour, \"y+\")\n",
    "plt.xlabel(\"Weight -- in grams\")\n",
    "plt.ylabel(\"Colour -- r-o-y-g-b-p\")\n",
    "plt.legend([\"Apples\", \"Bananas\"])\n",
    "plt.show()"
   ]
  },
  {
   "cell_type": "markdown",
   "metadata": {},
   "source": [
    "We  see that similar fruits come close in the feature (weight, color) space? Now let us plot one sample data given in black."
   ]
  },
  {
   "cell_type": "code",
   "execution_count": 3,
   "metadata": {},
   "outputs": [
    {
     "data": {
      "image/png": "[encoded data removed]",
      "text/plain": [
       "<matplotlib.figure.Figure at 0x10d8db400>"
      ]
     },
     "metadata": {},
     "output_type": "display_data"
    }
   ],
   "source": [
    "plt.plot(apples.Weight, apples.Colour, \"ro\")\n",
    "plt.plot(bananas.Weight, bananas.Colour, \"y+\")\n",
    "plt.xlabel(\"Weight -- in grams\")\n",
    "plt.ylabel(\"Colour -- r-o-y-g-b-p\")\n",
    "plt.legend([\"Apples\", \"Bananas\"])\n",
    "plt.plot([373], [1], \"ko\")\n",
    "plt.show()"
   ]
  },
  {
   "cell_type": "markdown",
   "metadata": {},
   "source": [
    "From the visualization alone, we can infer that the unknown fruit is likely to be an apple. \n",
    "\n",
    "The job now is to instead of eyeballing it one at a time like above, use a kNN classifier with, say, $k = 3$ and using the *Euclidean* distance, to determine the correct label for the data in the file \"01-test1.csv\" that has 30 data points. \n",
    "\n",
    "Let us first write a distance function to calculate the *Euclidean* distance between two fruits."
   ]
  },
  {
   "cell_type": "code",
   "execution_count": 4,
   "metadata": {},
   "outputs": [],
   "source": [
    "import math\n",
    "def dist(a, b):\n",
    "    sqSum = 0\n",
    "    for i in range(len(a)):\n",
    "        sqSum += (a[i] - b[i]) ** 2\n",
    "    return math.sqrt(sqSum)"
   ]
  },
  {
   "cell_type": "markdown",
   "metadata": {},
   "source": [
    "Now let us write code to find the $k$ nearest neighbours of a given fruit"
   ]
  },
  {
   "cell_type": "code",
   "execution_count": 5,
   "metadata": {},
   "outputs": [],
   "source": [
    "def kNN(k, train, given):\n",
    "    distances = []\n",
    "    for t in train.values:              \n",
    "        # loop over all training samples\n",
    "        distances.append((dist(t[:2], given), t[2])) \n",
    "        # compute and store distances with respect to each training sample\n",
    "    distances.sort()            \n",
    "    return distances[:k]    # return first k samples = nearest  k distances to the given sample"
   ]
  },
  {
   "cell_type": "code",
   "execution_count": 6,
   "metadata": {},
   "outputs": [
    {
     "name": "stdout",
     "output_type": "stream",
     "text": [
      "[(2.8284271247461903, 'A'), (3.0, 'A'), (3.0, 'A')]\n",
      "[(2.8284271247461903, 'A'), (3.0, 'A'), (3.0, 'A'), (3.1622776601683795, 'A'), (5.0, 'A')]\n"
     ]
    }
   ],
   "source": [
    "print(kNN(3, train, (373, 1)))\n",
    "print(kNN(5, train, (373, 1)))"
   ]
  },
  {
   "cell_type": "markdown",
   "metadata": {},
   "source": [
    "As you can see above, the 3 (and 5) nearest neighbours of the fruit with the characteristics (373, 1) are all Apples -- label 1; which is what we visually saw when we plotted the point as a black spot in the chart. Of course we need to write another function to get this attribute rather than read, so we have written a function for that. We have used collections.Counter, which is a very useful python library. More detail are at:\n",
    "\n",
    " * https://docs.python.org/3/library/collections.html#collections.Counter "
   ]
  },
  {
   "cell_type": "code",
   "execution_count": 7,
   "metadata": {},
   "outputs": [
    {
     "name": "stdout",
     "output_type": "stream",
     "text": [
      "('A', 4)\n",
      "('A', 5)\n"
     ]
    }
   ],
   "source": [
    "import collections\n",
    "def kNNmax(k, train, given):\n",
    "    tally = collections.Counter()\n",
    "    for nn in kNN(k, train, given):\n",
    "        tally.update(nn[-1])\n",
    "    return tally.most_common(1)[0]\n",
    "\n",
    "\n",
    "\n",
    "print(kNNmax(5, train, (340, 1)))\n",
    "print(kNNmax(7, train, (340, 1)))"
   ]
  },
  {
   "cell_type": "markdown",
   "metadata": {},
   "source": [
    "This shows that of the five nearest neighbours to (340, 1) four are Apples and of the seven nearest, five are Apples "
   ]
  },
  {
   "cell_type": "markdown",
   "metadata": {},
   "source": [
    "Now let us load the test data and find the labels for all of them "
   ]
  },
  {
   "cell_type": "code",
   "execution_count": 8,
   "metadata": {},
   "outputs": [
    {
     "name": "stdout",
     "output_type": "stream",
     "text": [
      "[ 318.1    3. ] B\n",
      "[ 293.8    3. ] B\n",
      "[ 277.3    2. ] B\n",
      "[ 324.2    4. ] B\n",
      "[ 327.    2.] B\n",
      "[ 281.5    3. ] B\n",
      "[ 386.8    1. ] A\n",
      "[ 377.8    2. ] A\n",
      "[ 401.1    1. ] A\n",
      "[ 399.5    1. ] A\n",
      "[ 387.3    1. ] A\n",
      "[ 361.9    2. ] A\n",
      "[ 293.6    3. ] B\n",
      "[ 309.1    3. ] B\n",
      "[ 276.2    3. ] B\n",
      "[ 303.3    3. ] B\n",
      "[ 274.6    3. ] B\n",
      "[ 327.2    3. ] B\n",
      "[ 274.    3.] B\n",
      "[ 269.2    3. ] B\n",
      "[ 265.1    3. ] B\n",
      "[ 300.7    3. ] B\n",
      "[ 282.1    3. ] B\n",
      "[ 274.6    3. ] B\n",
      "[ 357.2    4. ] A\n",
      "[ 405.7    4. ] A\n",
      "[ 377.8    4. ] A\n",
      "[ 401.7    4. ] A\n",
      "[ 342.2    4. ] A\n",
      "[ 397.4    4. ] A\n"
     ]
    }
   ],
   "source": [
    "#print(train)\n",
    "import math\n",
    "testData1 = pd.read_csv('01-test1.csv').values\n",
    "for t in testData1:\n",
    "    print(t, kNNmax(3, train, t)[0])"
   ]
  },
  {
   "cell_type": "markdown",
   "metadata": {},
   "source": [
    "Let us count how many are correct, instead of displaying the results"
   ]
  },
  {
   "cell_type": "code",
   "execution_count": 9,
   "metadata": {},
   "outputs": [
    {
     "name": "stdout",
     "output_type": "stream",
     "text": [
      "30 are correct\n"
     ]
    }
   ],
   "source": [
    "\n",
    "testData = pd.read_csv('01-test1.csv').values\n",
    "testResults = pd.read_csv('01-test1-labels.csv').values.flatten()\n",
    "results = []\n",
    "for i, t in enumerate(testData):\n",
    "    results.append(kNNmax(3, train, t)[0] == testResults[i])\n",
    "print(results.count(True), \"are correct\")"
   ]
  },
  {
   "cell_type": "markdown",
   "metadata": {},
   "source": [
    "**Exercise 1** :: Find the accuracy of your prediction -- percentage of the samples that are correctly predicted.\n",
    "\n",
    "**Exercise 2** :: Predict the labels for the larger file \"01-test2.csv\" that has 72 data points\n",
    "\n",
    "Note that with 17 samples we are predicting (rather accurately) the labels on a larger level\n",
    "\n",
    "**Exercise 3** :: Find the accuracy of the prediction by comparing with \"01-test2-labels.csv\" \n",
    "\n",
    "**Exercise 4** :: Repeat the above experiment with $k = 5$ and $k = 7$. Explain which $k$ is better and why?\n",
    "\n",
    "**Exercise 5** :: Repeat the above experiment with $k = 17$. What do you think is happening?\n",
    "\n",
    "**Exercise 6** :: If the weights are in Kgs, that is divide all of the data in weights column by 1000, what is the accuracy for $k = 3$\n",
    "\n",
    "**Exercise 7** :: Modify the distance function to ignore the colour feature. Calculate the accuracy on \"01-test1.csv\"\n",
    "\n",
    "**Exercise 8** :: If we used the square of the Euclidean distance, for the distance fuction does it affect the accuracy?\n",
    "\n",
    "**Exercise 9** :: If we use the sum of the absolute differences, as the distance metric instead of the Euclidean, how does that affect the accuracy?"
   ]
  },
  {
   "cell_type": "markdown",
   "metadata": {},
   "source": [
    "** Solution 1 ** :: Find the accuracy of your prediction -- percentage of the samples that are correctly predicted."
   ]
  },
  {
   "cell_type": "code",
   "execution_count": 10,
   "metadata": {},
   "outputs": [
    {
     "name": "stdout",
     "output_type": "stream",
     "text": [
      "30 are correct\n",
      "Percentage Accuracy = 100.0 %\n"
     ]
    }
   ],
   "source": [
    "\n",
    "testData = pd.read_csv('01-test1.csv').values\n",
    "testResults = pd.read_csv('01-test1-labels.csv').values.flatten()\n",
    "results = []\n",
    "for i, t in enumerate(testData):\n",
    "    results.append(kNNmax(3, train, t)[0] == testResults[i])\n",
    "print(results.count(True), \"are correct\")\n",
    "print('Percentage Accuracy =', results.count(True) / len(testData) *100.0 , '%')"
   ]
  },
  {
   "cell_type": "markdown",
   "metadata": {},
   "source": [
    "** Solution 2 ** :: Predict the labels for the larger file \"01-test2.csv\" that has 72 data points\n"
   ]
  },
  {
   "cell_type": "code",
   "execution_count": 11,
   "metadata": {},
   "outputs": [
    {
     "name": "stdout",
     "output_type": "stream",
     "text": [
      "[ 318.1    3. ] --> B\n",
      "[ 293.8    3. ] --> B\n",
      "[ 277.3    2. ] --> B\n",
      "[ 324.2    4. ] --> B\n",
      "[ 327.    2.] --> B\n",
      "[ 281.5    3. ] --> B\n",
      "[ 386.8    1. ] --> A\n",
      "[ 377.8    2. ] --> A\n",
      "[ 401.1    1. ] --> A\n",
      "[ 399.5    1. ] --> A\n",
      "[ 387.3    1. ] --> A\n",
      "[ 361.9    2. ] --> A\n",
      "[ 293.6    3. ] --> B\n",
      "[ 309.1    3. ] --> B\n",
      "[ 276.2    3. ] --> B\n",
      "[ 303.3    3. ] --> B\n",
      "[ 274.6    3. ] --> B\n",
      "[ 327.2    3. ] --> B\n",
      "[ 274.    3.] --> B\n",
      "[ 269.2    3. ] --> B\n",
      "[ 265.1    3. ] --> B\n",
      "[ 300.7    3. ] --> B\n",
      "[ 282.1    3. ] --> B\n",
      "[ 274.6    3. ] --> B\n",
      "[ 357.2    4. ] --> A\n",
      "[ 405.7    4. ] --> A\n",
      "[ 377.8    4. ] --> A\n",
      "[ 401.7    4. ] --> A\n",
      "[ 342.2    4. ] --> A\n",
      "[ 397.4    4. ] --> A\n"
     ]
    }
   ],
   "source": [
    "#print(train)\n",
    "testData2 = pd.read_csv('01-test2.csv').values\n",
    "results2 = []\n",
    "for i,t in enumerate(testData):\n",
    "    print (t, '-->',  kNNmax(3,train,t)[0])"
   ]
  },
  {
   "cell_type": "markdown",
   "metadata": {},
   "source": [
    "** Solution 3** :: Find the accuracy of the prediction by comparing with \"01-test2-labels.csv\""
   ]
  },
  {
   "cell_type": "code",
   "execution_count": 12,
   "metadata": {},
   "outputs": [
    {
     "name": "stdout",
     "output_type": "stream",
     "text": [
      "72 are correct\n",
      "Percentage Accuracy = 100.0 %\n"
     ]
    }
   ],
   "source": [
    "\n",
    "testData = pd.read_csv('01-test2.csv').values\n",
    "testResults = pd.read_csv('01-test2-labels.csv').values.flatten()\n",
    "results = []\n",
    "for i, t in enumerate(testData):\n",
    "    results.append(kNNmax(3, train, t)[0] == testResults[i])\n",
    "print(results.count(True), \"are correct\")\n",
    "print('Percentage Accuracy =', results.count(True) / len(testData) *100.0 , '%')"
   ]
  },
  {
   "cell_type": "markdown",
   "metadata": {},
   "source": [
    "**Solution 4 ** :: Repeat the above experiment with  k=5 k=5  and  k=7 k=7 . Explain which  kk  is better and why?"
   ]
  },
  {
   "cell_type": "code",
   "execution_count": 13,
   "metadata": {},
   "outputs": [
    {
     "name": "stdout",
     "output_type": "stream",
     "text": [
      "72 are correct\n",
      "Percentage Accuracy = 100.0 %\n"
     ]
    }
   ],
   "source": [
    "testData = pd.read_csv('01-test2.csv').values\n",
    "testResults = pd.read_csv('01-test2-labels.csv').values.flatten()\n",
    "results = []\n",
    "for i, t in enumerate(testData):\n",
    "    results.append(kNNmax(5, train, t)[0] == testResults[i])\n",
    "print(results.count(True), \"are correct\")\n",
    "print('Percentage Accuracy =', results.count(True) / len(testData) *100.0 , '%')"
   ]
  },
  {
   "cell_type": "code",
   "execution_count": 14,
   "metadata": {},
   "outputs": [
    {
     "name": "stdout",
     "output_type": "stream",
     "text": [
      "72 are correct\n",
      "Percentage Accuracy = 100.0 %\n"
     ]
    }
   ],
   "source": [
    "testData = pd.read_csv('01-test2.csv').values\n",
    "testResults = pd.read_csv('01-test2-labels.csv').values.flatten()\n",
    "results = []\n",
    "for i, t in enumerate(testData):\n",
    "    results.append(kNNmax(7, train, t)[0] == testResults[i])\n",
    "print(results.count(True), \"are correct\")\n",
    "print('Percentage Accuracy =', results.count(True) / len(testData) *100.0 , '%')"
   ]
  },
  {
   "cell_type": "markdown",
   "metadata": {},
   "source": [
    "** Solution  5 ** :: Repeat the above experiment with  k=17k=17 . What do you think is happening?"
   ]
  },
  {
   "cell_type": "code",
   "execution_count": 15,
   "metadata": {},
   "outputs": [
    {
     "name": "stdout",
     "output_type": "stream",
     "text": [
      "36 are correct\n",
      "Percentage Accuracy = 50.0 %\n"
     ]
    }
   ],
   "source": [
    "testData = pd.read_csv('01-test2.csv').values\n",
    "testResults = pd.read_csv('01-test2-labels.csv').values.flatten()\n",
    "results = []\n",
    "for i, t in enumerate(testData):\n",
    "    results.append(kNNmax(17, train, t)[0] == testResults[i])\n",
    "print(results.count(True), \"are correct\")\n",
    "print('Percentage Accuracy =', results.count(True) / len(testData) *100.0 , '%')"
   ]
  },
  {
   "cell_type": "markdown",
   "metadata": {},
   "source": [
    "** Solution 6 ** :: If the weights are in Kgs, that is divide all of the data in weights column by 1000, what is the accuracy for  k=3k=3"
   ]
  },
  {
   "cell_type": "code",
   "execution_count": 16,
   "metadata": {},
   "outputs": [],
   "source": [
    "def gramToKG(gram):\n",
    "    return float(gram) / 1000.0"
   ]
  },
  {
   "cell_type": "code",
   "execution_count": 17,
   "metadata": {},
   "outputs": [
    {
     "name": "stdout",
     "output_type": "stream",
     "text": [
      "18 are correct\n",
      "Percentage Accuracy = 60.0 %\n"
     ]
    }
   ],
   "source": [
    "testData = pd.read_csv('01-test1.csv', converters={\"Weight\":gramToKG}).values\n",
    "testResults = pd.read_csv('01-test1-labels.csv').values.flatten()\n",
    "results = []\n",
    "for i, t in enumerate(testData):\n",
    "    results.append(kNNmax(3, train, t)[0] == testResults[i])\n",
    "print(results.count(True), \"are correct\")\n",
    "print('Percentage Accuracy =', results.count(True) / len(testData) *100.0 , '%')"
   ]
  },
  {
   "cell_type": "markdown",
   "metadata": {},
   "source": [
    "** Solution 7 **:: Modify the distance function to ignore the colour feature. Calculate the accuracy on \"01-test1.csv\""
   ]
  },
  {
   "cell_type": "code",
   "execution_count": 18,
   "metadata": {},
   "outputs": [],
   "source": [
    "import math\n",
    "def dist(a, b):\n",
    "    sqSum = 0\n",
    "    for i in range(len(a)-1):\n",
    "        sqSum += (a[i] - b[i]) ** 2\n",
    "    return math.sqrt(sqSum)"
   ]
  },
  {
   "cell_type": "code",
   "execution_count": 19,
   "metadata": {},
   "outputs": [
    {
     "name": "stdout",
     "output_type": "stream",
     "text": [
      "30 are correct\n",
      "Percentage Accuracy = 100.0 %\n"
     ]
    }
   ],
   "source": [
    "testData = pd.read_csv('01-test1.csv').values\n",
    "testResults = pd.read_csv('01-test1-labels.csv').values.flatten()\n",
    "results = []\n",
    "for i, t in enumerate(testData):\n",
    "    results.append(kNNmax(3, train, t)[0] == testResults[i])\n",
    "print(results.count(True), \"are correct\")\n",
    "print('Percentage Accuracy =', results.count(True) / len(testData) *100.0 , '%')"
   ]
  },
  {
   "cell_type": "markdown",
   "metadata": {},
   "source": [
    "** Solution 8 ** :: If we used the square of the Euclidean distance, for the distance fuction does it affect the accuracy?"
   ]
  },
  {
   "cell_type": "code",
   "execution_count": 20,
   "metadata": {},
   "outputs": [],
   "source": [
    "import math\n",
    "def dist(a, b):\n",
    "    sqSum = 0\n",
    "    for i in range(len(a)):\n",
    "        sqSum += (a[i] - b[i]) ** 2\n",
    "    return sqSum"
   ]
  },
  {
   "cell_type": "code",
   "execution_count": 21,
   "metadata": {},
   "outputs": [
    {
     "name": "stdout",
     "output_type": "stream",
     "text": [
      "30 are correct\n",
      "Percentage Accuracy = 100.0 %\n"
     ]
    }
   ],
   "source": [
    "testData = pd.read_csv('01-test1.csv').values\n",
    "testResults = pd.read_csv('01-test1-labels.csv').values.flatten()\n",
    "results = []\n",
    "for i, t in enumerate(testData):\n",
    "    results.append(kNNmax(3, train, t)[0] == testResults[i])\n",
    "print(results.count(True), \"are correct\")\n",
    "print('Percentage Accuracy =', results.count(True) / len(testData) *100.0 , '%')"
   ]
  },
  {
   "cell_type": "markdown",
   "metadata": {},
   "source": [
    "** Solution 9 ** :: If we use the sum of the absolute differences, as the distance metric instead of the Euclidean, how does that affect the accuracy?"
   ]
  },
  {
   "cell_type": "code",
   "execution_count": null,
   "metadata": {},
   "outputs": [],
   "source": []
  },
  {
   "cell_type": "code",
   "execution_count": null,
   "metadata": {},
   "outputs": [],
   "source": []
  },
  {
   "cell_type": "markdown",
   "metadata": {},
   "source": [
    "## Acknowledgment\n",
    "This experiment is based on the blog post http://www.jiaaro.com/KNN-for-humans. "
   ]
  },
  {
   "cell_type": "markdown",
   "metadata": {},
   "source": [
    "## Summary\n",
    "In the above experiment, we find that a simple nearest neighbour method can successfully predict labels with a small number of labelled examples. But we also see that the results can go really wrong if we make some wrong choices (like weight in Kg, or a very large K). This should remind you about the practical expertise and experimental skills that will become equally important as we move forward."
   ]
  }
 ],
 "metadata": {
  "kernelspec": {
   "display_name": "Python 3",
   "language": "python",
   "name": "python3"
  },
  "language_info": {
   "codemirror_mode": {
    "name": "ipython",
    "version": 3
   },
   "file_extension": ".py",
   "mimetype": "text/x-python",
   "name": "python",
   "nbconvert_exporter": "python",
   "pygments_lexer": "ipython3",
   "version": "3.6.3"
  }
 },
 "nbformat": 4,
 "nbformat_minor": 2
}
