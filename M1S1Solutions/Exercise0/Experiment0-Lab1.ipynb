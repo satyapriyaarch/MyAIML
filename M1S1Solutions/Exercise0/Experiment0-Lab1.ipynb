{
 "cells": [
  {
   "cell_type": "markdown",
   "metadata": {},
   "source": [
    "# Session 1\n",
    "## Experiment 0\n",
    "### Lab"
   ]
  },
  {
   "cell_type": "markdown",
   "metadata": {},
   "source": [
    "**After finishing this Experiment, please go over to the LMS, and answer the Check For Understanding Questions under Experiment 0.**"
   ]
  },
  {
   "cell_type": "markdown",
   "metadata": {},
   "source": [
    "In this experiment, we will see a simple data set which we will use for a kNN problem. We will read the data from a csv file using pandas and visualize it using matplotlib. The actual kNN computations are done in the next Experiment.\n",
    "\n",
    "The objectives for this experiment are:\n",
    " * getting comfortable with Jupyter\n",
    " * getting familiar with pandas\n",
    " * getting familiar with matplotlib\n",
    " \n",
    "To know more about pandas refer to:\n",
    " * The pandas Tutorial video in the Python Course in the LMS\n",
    " * The data munging Tutorial video in the Python Course in the LMS\n",
    " * Of course pandas' documentation is great too\n",
    "\n",
    "To know more about matplotlib refer to:\n",
    " * The matplotlib Tutorial video in the Python Course in the LMS\n"
   ]
  },
  {
   "cell_type": "markdown",
   "metadata": {},
   "source": [
    "### The problem and the data\n",
    "\n",
    "Let us consider a simple situation. Given some data about a fruit.\n",
    "\n",
    "Fruits are characterized by \n",
    " * weight (in grams)\n",
    " * colour as an integer\n",
    "     - 1 $\\rightarrow$ red\n",
    "     - 2 $\\rightarrow$ orange\n",
    "     - 3 $\\rightarrow$ yellow\n",
    "     - 4 $\\rightarrow$ green\n",
    "     - 5 $\\rightarrow$ blue\n",
    "     - 6 $\\rightarrow$ purple\n",
    " * label as a string\n",
    "     - \"Apple\" or \"Banana\"\n",
    "     \n",
    "Here are the details of the file:\n",
    "  * 00-fruits.csv $\\Rightarrow$ The input data. \n",
    "  * Has 18 lines\n",
    "  * The first line is the header line\n",
    "  * Each line contains weight in grams, colour code, and string \"Apple\", or \"Banana\"\n",
    "  "
   ]
  },
  {
   "cell_type": "code",
   "execution_count": null,
   "metadata": {},
   "outputs": [],
   "source": [
    "# Let us first read the data from the file\n",
    "import pandas as pd\n",
    "data = pd.read_csv(\"00-fruits.csv\")\n",
    "data"
   ]
  },
  {
   "cell_type": "markdown",
   "metadata": {},
   "source": [
    "Note that the nice display above is due to pandas and Jupyter working together. "
   ]
  },
  {
   "cell_type": "markdown",
   "metadata": {},
   "source": [
    "We need to convert the label column data: Apples as A and Bananas as B. Here is the pandas code to do that. \n",
    "\n",
    "*Note the defensive conversion to lower() as well as returning an X for wrong data. Real world data will rarely be clean*"
   ]
  },
  {
   "cell_type": "code",
   "execution_count": null,
   "metadata": {},
   "outputs": [],
   "source": [
    "def fruitLabels(s):\n",
    "    s = s.strip().lower()\n",
    "    if s == \"apple\":\n",
    "        return \"A\"\n",
    "    if s == \"banana\":\n",
    "        return \"B\"\n",
    "    return \"X\"\n",
    "import pandas as pd\n",
    "data = pd.read_csv(\"00-fruits.csv\", converters={\"Label\":fruitLabels})\n",
    "data"
   ]
  },
  {
   "cell_type": "markdown",
   "metadata": {},
   "source": [
    "Before we start doing anything else, let us do some exploration. Let us plot the weight and color distribution."
   ]
  },
  {
   "cell_type": "code",
   "execution_count": null,
   "metadata": {},
   "outputs": [],
   "source": [
    "import matplotlib.pyplot as plt\n",
    "plt.plot(data.Weight, data.Colour, \".\")\n",
    "plt.show()"
   ]
  },
  {
   "cell_type": "markdown",
   "metadata": {},
   "source": [
    "But this is not very useful. So let us separate the data we have into apples and bananas and print them in different colours"
   ]
  },
  {
   "cell_type": "code",
   "execution_count": null,
   "metadata": {},
   "outputs": [],
   "source": [
    "apples = data[data.Label == \"A\"]\n",
    "bananas = data[data.Label == \"B\"]\n",
    "plt.plot(apples.Weight, apples.Colour, \"r.\")\n",
    "plt.plot(bananas.Weight, bananas.Colour, \"y.\")\n",
    "plt.show()"
   ]
  },
  {
   "cell_type": "markdown",
   "metadata": {},
   "source": [
    "Let us add some labels to make the chart better "
   ]
  },
  {
   "cell_type": "code",
   "execution_count": null,
   "metadata": {},
   "outputs": [],
   "source": [
    "plt.plot(apples.Weight, apples.Colour, \"r.\")\n",
    "plt.plot(bananas.Weight, bananas.Colour, \"y.\")\n",
    "plt.xlabel(\"Weight -- in grams\")\n",
    "plt.ylabel(\"Colour -- r-o-y-g-b-p\")\n",
    "plt.show()"
   ]
  },
  {
   "cell_type": "markdown",
   "metadata": {},
   "source": [
    "**Exercise 1** :: Change the points for Apples to big circles and the points for Bananas to crosses. Edit the areas marked with ??? in the code below.\n",
    "\n",
    "**Exercise 2** :: Add a legend"
   ]
  },
  {
   "cell_type": "code",
   "execution_count": null,
   "metadata": {},
   "outputs": [],
   "source": [
    "plt.plot(apples.Weight, apples.Colour, ???)\n",
    "plt.plot(bananas.Weight, bananas.Colour, ???)\n",
    "plt.xlabel(\"Weight -- in grams\")\n",
    "plt.ylabel(\"Colour -- r-o-y-g-b-p\")\n",
    "plt.show()"
   ]
  },
  {
   "cell_type": "markdown",
   "metadata": {},
   "source": [
    "We  see that similar fruits come close in the weight, color space? Now let us plot two sample sample data in black."
   ]
  },
  {
   "cell_type": "code",
   "execution_count": null,
   "metadata": {},
   "outputs": [],
   "source": [
    "plt.plot(apples.Weight, apples.Colour, \"r.\")\n",
    "plt.plot(bananas.Weight, bananas.Colour, \"y.\")\n",
    "plt.xlabel(\"Weight -- in grams\")\n",
    "plt.ylabel(\"Colour -- r-o-y-g-b-p\")\n",
    "plt.plot([373, 280], [1, 3], \"ko\")\n",
    "plt.show()"
   ]
  },
  {
   "cell_type": "markdown",
   "metadata": {},
   "source": [
    "Now we can infer that the fruit (373, 1) is most likely to be an apple and the fruit (280, 3) is most probably a banana. \n",
    "\n",
    "The job for us now is to instead of eyeballing it one at a time like above, use a kNN classifier with different $k$ values, using different distance functions, to determine the correct label for some new data -- that is not in 00-fruits.csv\n",
    "\n",
    "Let us first write a simple distance function to calculate the distance between two fruits."
   ]
  },
  {
   "cell_type": "code",
   "execution_count": null,
   "metadata": {},
   "outputs": [],
   "source": [
    "import math\n",
    "def dist(a, b):\n",
    "    sqSum = 0\n",
    "    for i in range(len(a)):\n",
    "        sqSum += (a[i] - b[i]) ** 2\n",
    "    return math.sqrt(sqSum)"
   ]
  },
  {
   "cell_type": "markdown",
   "metadata": {},
   "source": [
    "Now let us find the distance between the fruits in line 0 and line 1 in the  data set. We use values attribute to get an array of the dataframe."
   ]
  },
  {
   "cell_type": "code",
   "execution_count": null,
   "metadata": {},
   "outputs": [],
   "source": [
    "f0 = data.values[0]\n",
    "print(f0)\n",
    "f1 = data.values[1]\n",
    "print(f1)"
   ]
  },
  {
   "cell_type": "code",
   "execution_count": null,
   "metadata": {},
   "outputs": [],
   "source": [
    "dist(f1[:2], f0[:2])"
   ]
  },
  {
   "cell_type": "markdown",
   "metadata": {},
   "source": [
    "Now let us find the distance between the fruits in line 0 and line 2 in the data set. "
   ]
  },
  {
   "cell_type": "code",
   "execution_count": null,
   "metadata": {},
   "outputs": [],
   "source": [
    "f2 = data.values[2]\n",
    "dist(f2[:2], f0[:2])"
   ]
  },
  {
   "cell_type": "markdown",
   "metadata": {},
   "source": [
    "**Exercise 3** :: Find the distance between the fruits in line 2, and line 1\n"
   ]
  },
  {
   "cell_type": "markdown",
   "metadata": {},
   "source": [
    "## Acknowledgment\n",
    "This fruits data is based on the blog post http://www.jiaaro.com/KNN-for-humans. "
   ]
  }
 ],
 "metadata": {
  "kernelspec": {
   "display_name": "Python 3",
   "language": "python",
   "name": "python3"
  },
  "language_info": {
   "codemirror_mode": {
    "name": "ipython",
    "version": 3
   },
   "file_extension": ".py",
   "mimetype": "text/x-python",
   "name": "python",
   "nbconvert_exporter": "python",
   "pygments_lexer": "ipython3",
   "version": "3.6.3"
  }
 },
 "nbformat": 4,
 "nbformat_minor": 2
}
