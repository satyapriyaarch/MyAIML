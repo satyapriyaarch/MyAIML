{
 "cells": [
  {
   "cell_type": "markdown",
   "metadata": {},
   "source": [
    "# Figures to Words\n",
    "A program to convert a given integer to its written representation.\n",
    "\n",
    "Examples: \n",
    "\n",
    "143 $\\Rightarrow$ One hundred and forty three\n",
    "\n",
    "127865 $\\Rightarrow$ One lakh twenty seven thousand eight hundred and sixty five\n",
    "\n",
    "Assume that input number is less than 100 crores\n",
    "          "
   ]
  },
  {
   "cell_type": "code",
   "execution_count": 5,
   "metadata": {},
   "outputs": [
    {
     "name": "stdout",
     "output_type": "stream",
     "text": [
      "One Hundred and Seventy Six \n"
     ]
    }
   ],
   "source": [
    "#Simple and not very structured\n",
    "to20 = [\"\", \"One \", \"Two \", \"Three \", \"Four \", \"Five \", \"Six \", \"Seven \", \"Eight \", \"Nine \", \"Ten \", \"Eleven\",\n",
    "         \"Twelve \", \"Thirteen \", \"Fourteen \", \"Fifteen \", \"Sixteen \", \"Seventeen \", \"Eighteen \", \"Nineteen \"]\n",
    "tens = [\"\", \"Ten \", \"Twenty \", \"Thirty \", \"Fourty \", \"Fifty \", \"Sixty \", \"Seventy \", \"Eighty \", \"Ninety \"]\n",
    "denominations = {10000000:\"Crore \", 100000: \"Lakh \", 1000: \"Thousand \", 100: \"Hundred \", 1:\"\"}\n",
    "denomValues = [10000000, 100000, 1000, 100, 1]\n",
    "\n",
    "amount = 176\n",
    "inwords = \"\"\n",
    "\n",
    "for value in denomValues:\n",
    "    if amount > value:\n",
    "        denomCount = amount // value\n",
    "        if denomCount < len(to20):\n",
    "            inwords += to20[denomCount] + denominations[value]\n",
    "        else:\n",
    "            inwords += tens[denomCount // 10] + to20[denomCount % 10] + denominations[value]\n",
    "        amount %= value\n",
    "if \"Hundred\" in inwords:\n",
    "    if not inwords.endswith(\"Hundred \"):\n",
    "        inwords = inwords.replace(\"Hundred \", \"Hundred and \")\n",
    "print(inwords)"
   ]
  },
  {
   "cell_type": "markdown",
   "metadata": {},
   "source": [
    "The above is not easy to test and not very easy to change. For example, to use Western system instead of Indian would make for too many changes."
   ]
  },
  {
   "cell_type": "code",
   "execution_count": 5,
   "metadata": {},
   "outputs": [],
   "source": [
    "to20 = [\"\", \"One \", \"Two \", \"Three \", \"Four \", \"Five \", \"Six \", \"Seven \", \"Eight \", \"Nine \", \"Ten \", \"Eleven\",\n",
    "         \"Twelve \", \"Thirteen \", \"Fourteen \", \"Fifteen \", \"Sixteen \", \"Seventeen \", \"Eighteen \", \"Nineteen \"]\n",
    "tens = [\"\", \"Ten \", \"Twenty \", \"Thirty \", \"Fourty \", \"Fifty \", \"Sixty \", \"Seventy \", \"Eighty \", \"Ninety \"]\n",
    "def conv2digits(n):\n",
    "    if n < len(to20):\n",
    "        return to20[n]\n",
    "    return tens[n // 10] + to20[n % 10]\n",
    "def conv3digits(n):\n",
    "    if n > 99:\n",
    "        return to20[n // 100] + \"Hundred \" + conv2digits(n % 100)\n",
    "    return conv2digits(n)"
   ]
  },
  {
   "cell_type": "code",
   "execution_count": 7,
   "metadata": {},
   "outputs": [
    {
     "data": {
      "text/plain": [
       "('Twenty Five ', 'Seventeen ', 'Fifty Six ', 'Four Hundred Seven ')"
      ]
     },
     "execution_count": 7,
     "metadata": {},
     "output_type": "execute_result"
    }
   ],
   "source": [
    "conv2digits(25), conv2digits(17), conv3digits(56), conv3digits(407)"
   ]
  },
  {
   "cell_type": "code",
   "execution_count": 12,
   "metadata": {},
   "outputs": [],
   "source": [
    "def breakup(denoms, number):\n",
    "    pieces = []\n",
    "    for denom in denoms:\n",
    "        pieces.append((number // denom, denom))\n",
    "        number %= denom\n",
    "    return pieces"
   ]
  },
  {
   "cell_type": "code",
   "execution_count": 14,
   "metadata": {},
   "outputs": [
    {
     "data": {
      "text/plain": [
       "[(0, 10000000), (0, 100000), (17, 1000), (6, 100), (78, 1)]"
      ]
     },
     "execution_count": 14,
     "metadata": {},
     "output_type": "execute_result"
    }
   ],
   "source": [
    "breakup([10000000, 100000, 1000, 100, 1], 17678)"
   ]
  },
  {
   "cell_type": "code",
   "execution_count": 17,
   "metadata": {},
   "outputs": [],
   "source": [
    "def translate(pieces):\n",
    "    return ''.join([conv2digits(a) + denominations[b] for a, b in pieces if a > 0])"
   ]
  },
  {
   "cell_type": "code",
   "execution_count": 18,
   "metadata": {},
   "outputs": [
    {
     "data": {
      "text/plain": [
       "'Seventeen Thousand Six Hundred Seventy Eight '"
      ]
     },
     "execution_count": 18,
     "metadata": {},
     "output_type": "execute_result"
    }
   ],
   "source": [
    "translate(breakup([10000000, 100000, 1000, 100, 1], 17678))"
   ]
  },
  {
   "cell_type": "code",
   "execution_count": 19,
   "metadata": {},
   "outputs": [],
   "source": [
    "def fixAnd(s):\n",
    "    if \"Hundred\" not in s:\n",
    "        return s\n",
    "    if s.endswith(\"Hundred \"):\n",
    "        return s\n",
    "    return s.replace(\"Hundred \", \"Hundred and \")\n",
    "    "
   ]
  },
  {
   "cell_type": "markdown",
   "metadata": {},
   "source": [
    "I will leave the putting together the pieces as an exercise :-) <br>\n",
    "The breakup function can be written recursively. That is also left as an exercise!"
   ]
  }
 ],
 "metadata": {
  "kernelspec": {
   "display_name": "Python 3",
   "language": "python",
   "name": "python3"
  },
  "language_info": {
   "codemirror_mode": {
    "name": "ipython",
    "version": 3
   },
   "file_extension": ".py",
   "mimetype": "text/x-python",
   "name": "python",
   "nbconvert_exporter": "python",
   "pygments_lexer": "ipython3",
   "version": "3.6.3"
  }
 },
 "nbformat": 4,
 "nbformat_minor": 2
}
