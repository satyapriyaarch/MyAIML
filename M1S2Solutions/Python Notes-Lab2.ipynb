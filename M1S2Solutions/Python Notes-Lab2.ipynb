{
 "cells": [
  {
   "cell_type": "markdown",
   "metadata": {
    "deletable": true,
    "editable": true
   },
   "source": [
    "# Python Notes"
   ]
  },
  {
   "cell_type": "markdown",
   "metadata": {},
   "source": [
    "### Dictionaries"
   ]
  },
  {
   "cell_type": "code",
   "execution_count": 2,
   "metadata": {
    "collapsed": false
   },
   "outputs": [
    {
     "data": {
      "text/plain": [
       "'Delhi'"
      ]
     },
     "execution_count": 2,
     "metadata": {},
     "output_type": "execute_result"
    }
   ],
   "source": [
    "capitals = {\"India\":\"Delhi\", \"USA\":\"Washington\",\"UK\":\"London\"}\n",
    "capitals[\"India\"]"
   ]
  },
  {
   "cell_type": "code",
   "execution_count": 3,
   "metadata": {
    "collapsed": false
   },
   "outputs": [
    {
     "data": {
      "text/plain": [
       "True"
      ]
     },
     "execution_count": 3,
     "metadata": {},
     "output_type": "execute_result"
    }
   ],
   "source": [
    "\"USA\" in capitals"
   ]
  },
  {
   "cell_type": "code",
   "execution_count": 5,
   "metadata": {
    "collapsed": false
   },
   "outputs": [
    {
     "data": {
      "text/plain": [
       "False"
      ]
     },
     "execution_count": 5,
     "metadata": {},
     "output_type": "execute_result"
    }
   ],
   "source": [
    "\"Delhi\" in capitals"
   ]
  },
  {
   "cell_type": "code",
   "execution_count": 4,
   "metadata": {
    "collapsed": false
   },
   "outputs": [
    {
     "data": {
      "text/plain": [
       "False"
      ]
     },
     "execution_count": 4,
     "metadata": {},
     "output_type": "execute_result"
    }
   ],
   "source": [
    "\"Germany\" in capitals"
   ]
  },
  {
   "cell_type": "code",
   "execution_count": 6,
   "metadata": {
    "collapsed": false
   },
   "outputs": [
    {
     "name": "stdout",
     "output_type": "stream",
     "text": [
      "{'UK': 'London', 'USA': 'Washington', 'France': 'Paris', 'India': 'Delhi'}\n"
     ]
    }
   ],
   "source": [
    "capitals[\"France\"] = \"Paris\"\n",
    "print(capitals)"
   ]
  },
  {
   "cell_type": "code",
   "execution_count": 7,
   "metadata": {
    "collapsed": false
   },
   "outputs": [
    {
     "data": {
      "text/plain": [
       "['UK', 'USA', 'France', 'India']"
      ]
     },
     "execution_count": 7,
     "metadata": {},
     "output_type": "execute_result"
    }
   ],
   "source": [
    "list(capitals.keys())"
   ]
  },
  {
   "cell_type": "code",
   "execution_count": 8,
   "metadata": {
    "collapsed": false
   },
   "outputs": [
    {
     "data": {
      "text/plain": [
       "['London', 'Washington', 'Paris', 'Delhi']"
      ]
     },
     "execution_count": 8,
     "metadata": {},
     "output_type": "execute_result"
    }
   ],
   "source": [
    "list(capitals.values())"
   ]
  },
  {
   "cell_type": "markdown",
   "metadata": {
    "deletable": true,
    "editable": true
   },
   "source": [
    "### zip()"
   ]
  },
  {
   "cell_type": "code",
   "execution_count": 1,
   "metadata": {
    "collapsed": false,
    "deletable": true,
    "editable": true
   },
   "outputs": [
    {
     "name": "stdout",
     "output_type": "stream",
     "text": [
      "[(2, 'a'), (3, 'b'), (5, 'c'), (7, 'd')]\n",
      "(2, 'a')\n",
      "(3, 'b')\n",
      "(5, 'c')\n",
      "(7, 'd')\n"
     ]
    }
   ],
   "source": [
    "a = [2, 3, 5, 7]\n",
    "b = [\"a\", \"b\", \"c\", \"d\"]\n",
    "ab = []\n",
    "for i in range(len(a)):\n",
    "    ab.append((a[i], b[i]))\n",
    "print(ab)\n",
    "for x in ab:\n",
    "    print(x)"
   ]
  },
  {
   "cell_type": "code",
   "execution_count": 2,
   "metadata": {
    "collapsed": false,
    "deletable": true,
    "editable": true
   },
   "outputs": [
    {
     "name": "stdout",
     "output_type": "stream",
     "text": [
      "[(2, 'a'), (3, 'b'), (5, 'c'), (7, 'd')]\n",
      "(2, 'a')\n",
      "(3, 'b')\n",
      "(5, 'c')\n",
      "(7, 'd')\n"
     ]
    }
   ],
   "source": [
    "a = [2, 3, 5, 7]\n",
    "b = [\"a\", \"b\", \"c\", \"d\"]\n",
    "print(list(zip(a,b)))\n",
    "for x in zip(a,b):\n",
    "    print(x)"
   ]
  },
  {
   "cell_type": "markdown",
   "metadata": {
    "deletable": true,
    "editable": true
   },
   "source": [
    "Comparing the two code snippets, you should get a good idea of what zip does. Think of the everyday zipper in a dress. It takes two rows of single teeth, and produces one row of two interlocked teeth. Similarly zip takes two iterables and produces one iterable combining the elements of the original iterables in order"
   ]
  },
  {
   "cell_type": "markdown",
   "metadata": {
    "deletable": true,
    "editable": true
   },
   "source": [
    "### list comprehension"
   ]
  },
  {
   "cell_type": "code",
   "execution_count": 3,
   "metadata": {
    "collapsed": false,
    "deletable": true,
    "editable": true
   },
   "outputs": [
    {
     "name": "stdout",
     "output_type": "stream",
     "text": [
      "[4, 9, 25, 49]\n"
     ]
    }
   ],
   "source": [
    "a = [2, 3, 5, 7]\n",
    "asq = []\n",
    "for x in a:\n",
    "    asq.append(x * x)\n",
    "print(asq)"
   ]
  },
  {
   "cell_type": "code",
   "execution_count": 4,
   "metadata": {
    "collapsed": false,
    "deletable": true,
    "editable": true
   },
   "outputs": [
    {
     "name": "stdout",
     "output_type": "stream",
     "text": [
      "[4, 9, 25, 49]\n"
     ]
    }
   ],
   "source": [
    "a = [2, 3, 5, 7]\n",
    "asq = [x * x for x in a]\n",
    "print(asq)"
   ]
  },
  {
   "cell_type": "code",
   "execution_count": 5,
   "metadata": {
    "collapsed": false,
    "deletable": true,
    "editable": true
   },
   "outputs": [
    {
     "name": "stdout",
     "output_type": "stream",
     "text": [
      "['A', 'E', 'I', 'O', 'U']\n"
     ]
    }
   ],
   "source": [
    "vowels = ['a', 'e', 'i', 'o', 'u']\n",
    "VOWELS = []\n",
    "for v in vowels:\n",
    "    VOWELS.append(v.upper())\n",
    "print(VOWELS)"
   ]
  },
  {
   "cell_type": "code",
   "execution_count": 6,
   "metadata": {
    "collapsed": false,
    "deletable": true,
    "editable": true
   },
   "outputs": [
    {
     "name": "stdout",
     "output_type": "stream",
     "text": [
      "['A', 'E', 'I', 'O', 'U']\n"
     ]
    }
   ],
   "source": [
    "vowels = ['a','e', 'i', 'o', 'u']\n",
    "VOWELS = [ch.upper() for ch in vowels]\n",
    "print(VOWELS)"
   ]
  },
  {
   "cell_type": "markdown",
   "metadata": {
    "deletable": true,
    "editable": true
   },
   "source": [
    "Comparing these code snippets, you should get a good idea of list comprehensions. They are a very compact and with a little practice, very easy to read construct for building lists from other lists\n",
    "\n",
    "Recall the set builder notation from set theory (You can groan here)\n",
    "\n",
    "$S = \\{ f(x)$ $|$ $x \\epsilon A,$  $p(x)\\}$\n",
    "\n",
    "Translated to English, this means $S$ is the set of all values obtained by applying $f$ to the  elements of $A$ that have property $p$\n",
    "\n",
    "The simple list comprehension is the same as the set builder with no $p$\n",
    "\n",
    " * In the case of the first example, $A$ is the list [2,3,5,7], $f$ is the square function and $S$ is the list asq\n",
    " * In the second example, $A$ is the list of lower case vowels, $f$ is the uppercase converter, and $S$ is the uppercase vowels."
   ]
  },
  {
   "cell_type": "code",
   "execution_count": 8,
   "metadata": {
    "collapsed": false,
    "deletable": true,
    "editable": true
   },
   "outputs": [
    {
     "name": "stdout",
     "output_type": "stream",
     "text": [
      "['A', 'E', 'I', 'O', 'U']\n"
     ]
    }
   ],
   "source": [
    "alphabets = \"abcdefghijklmnopqrstuvwxyz\"\n",
    "VOWELS = [ch.upper() for ch in alphabets if ch in ['a','e', 'i', 'o', 'u']]\n",
    "print(VOWELS)"
   ]
  },
  {
   "cell_type": "markdown",
   "metadata": {
    "deletable": true,
    "editable": true
   },
   "source": [
    "Here we have added property $p$, as beloging to the list of vowels."
   ]
  },
  {
   "cell_type": "markdown",
   "metadata": {
    "deletable": true,
    "editable": true
   },
   "source": [
    "## Optional\n",
    "We can rewrite the distance functions using the zip and list comprehension constructs, as below"
   ]
  },
  {
   "cell_type": "code",
   "execution_count": 10,
   "metadata": {
    "collapsed": true,
    "deletable": true,
    "editable": true
   },
   "outputs": [],
   "source": [
    "import math\n",
    "def diff(x, y):\n",
    "    return x - y\n",
    "def square(x):\n",
    "    return x * x\n",
    "def euclidean(a, b):\n",
    "    return math.sqrt(sum([square(diff(x,y)) for x, y in zip(a, b)]))\n",
    "def manhattan(a, b):\n",
    "    return sum([abs(diff(x, y)) for x, y in zip(a, b)])"
   ]
  }
 ],
 "metadata": {
  "kernelspec": {
   "display_name": "Python 3",
   "language": "python",
   "name": "python3"
  },
  "language_info": {
   "codemirror_mode": {
    "name": "ipython",
    "version": 3
   },
   "file_extension": ".py",
   "mimetype": "text/x-python",
   "name": "python",
   "nbconvert_exporter": "python",
   "pygments_lexer": "ipython3",
   "version": "3.5.2"
  }
 },
 "nbformat": 4,
 "nbformat_minor": 2
}
